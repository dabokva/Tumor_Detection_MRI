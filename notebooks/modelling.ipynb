{
 "cells": [
  {
   "cell_type": "markdown",
   "metadata": {},
   "source": [
    "# Modelling"
   ]
  },
  {
   "cell_type": "markdown",
   "metadata": {},
   "source": [
    "## Import"
   ]
  },
  {
   "cell_type": "code",
   "execution_count": 10,
   "metadata": {},
   "outputs": [],
   "source": [
    "import tensorflow as tf\n",
    "import pandas as pd\n",
    "import numpy as np\n",
    "from keras import models, layers, losses, optimizers, metrics, callbacks\n",
    "\n",
    "import matplotlib.pyplot as plt\n",
    "\n",
    "from keras_preprocessing.image import ImageDataGenerator\n",
    "\n",
    "%run ../scripts/save_utils.py"
   ]
  },
  {
   "cell_type": "markdown",
   "metadata": {},
   "source": [
    "## Baseline model"
   ]
  },
  {
   "cell_type": "markdown",
   "metadata": {},
   "source": [
    "## Data Load"
   ]
  },
  {
   "cell_type": "code",
   "execution_count": null,
   "metadata": {},
   "outputs": [],
   "source": [
    "'''x_train, y_train, x_val, y_val, x_test, y_test = load_data('..\\\\save_files\\\\data\\\\processed_data.pkl')\n",
    "\n",
    "stop_early = load_data('..\\\\save_files\\\\callbacks\\\\early_stop.pkl')\n",
    "\n",
    "baseline_history_train_results, baseline_history_test_results = load_data('..\\\\save_files\\\\evaluation_data\\\\baseline_eval.pkl')\n",
    "baseline_train_results, baseline_num_epochs = load_data('..\\\\save_files\\\\plots_data\\\\baseline_plot.pkl')\n",
    "\n",
    "augmented_history_train_results, augmented_history_test = load_data('..\\\\save_files\\\\evaluation_data\\\\augmented_eval.pkl')\n",
    "aug_train_results, num_epochs = load_data('..\\\\save_files\\\\plots_data\\\\augmented_plot.pkl')\n",
    "\n",
    "df_train = pd.DataFrame({'image_path':x_train, 'label':y_train})\n",
    "df_val = pd.DataFrame({'image_path':x_val, 'label':y_val})\n",
    "df_test = pd.DataFrame({'image_path':x_test, 'label':y_test})'''"
   ]
  },
  {
   "cell_type": "markdown",
   "metadata": {},
   "source": [
    "## ImageDataGenerator"
   ]
  },
  {
   "cell_type": "markdown",
   "metadata": {},
   "source": [
    "Let's initialize data generators. Most importantly, they will rescale vectorized images such that the values are going to be in range 0-1."
   ]
  },
  {
   "cell_type": "code",
   "execution_count": 4,
   "metadata": {},
   "outputs": [],
   "source": [
    "train_datagen = ImageDataGenerator(rescale=1./255)\n",
    "val_datagen = ImageDataGenerator(rescale=1./255)\n",
    "test_datagen = ImageDataGenerator(rescale=1./255)"
   ]
  },
  {
   "cell_type": "markdown",
   "metadata": {},
   "source": [
    "Now we need to specify the directories in which these images reside. I have decided to keep original resolution of 512x512 pixels. The *batch_size* is relatively small to reduce memory usage."
   ]
  },
  {
   "cell_type": "code",
   "execution_count": null,
   "metadata": {},
   "outputs": [],
   "source": [
    "train_generator = train_datagen.flow_from_dataframe(df_train, '..\\\\data\\\\raw\\\\merged_data\\\\',\n",
    "                                                    x_col='image_path', y_col='label',\n",
    "                                                    target_size=(512, 512), batch_size=8,\n",
    "                                                    class_mode='categorical', validate_filenames=False)\n",
    "\n",
    "validation_generator = val_datagen.flow_from_dataframe(df_val, '..\\\\data\\\\raw\\\\merged_data\\\\',\n",
    "                                                       x_col='image_path', y_col='label',\n",
    "                                                       target_size=(512, 512), batch_size=8,\n",
    "                                                       class_mode='categorical', validate_filenames=False)\n",
    "\n",
    "test_generator = test_datagen.flow_from_dataframe(df_test, '..\\\\data\\\\raw\\\\merged_data\\\\',\n",
    "                                                  x_col='image_path', y_col='label',\n",
    "                                                  target_size=(512, 512), batch_size=8,\n",
    "                                                  class_mode='categorical', validate_filenames=False)"
   ]
  },
  {
   "cell_type": "markdown",
   "metadata": {},
   "source": [
    "Now we initialize a baseline model. Notice that I have used *clear_session* to reset all variables that model might save before each use of the model (i.e. when re-running notebook)."
   ]
  },
  {
   "cell_type": "code",
   "execution_count": 6,
   "metadata": {},
   "outputs": [],
   "source": [
    "tf.keras.backend.clear_session()\n",
    "\n",
    "baseline_model = models.Sequential([\n",
    "    layers.Conv2D(64, (3, 3), activation='relu', input_shape=(512, 512, 3)),\n",
    "    layers.MaxPooling2D(2, 2),\n",
    "    layers.Conv2D(128, (3, 3), activation='relu'),\n",
    "    layers.MaxPooling2D(2, 2),\n",
    "    layers.Conv2D(128, (3, 3), activation='relu'),\n",
    "    layers.MaxPooling2D(2, 2),\n",
    "    layers.Flatten(),\n",
    "    layers.Dense(256, activation='relu'),\n",
    "    layers.Dense(4, activation='softmax')\n",
    "\n",
    "])\n",
    "\n",
    "baseline_model.compile(loss=losses.CategoricalCrossentropy(), optimizer=optimizers.Adam(learning_rate=0.001), metrics=[metrics.Recall()])"
   ]
  },
  {
   "cell_type": "code",
   "execution_count": null,
   "metadata": {},
   "outputs": [],
   "source": [
    "baseline_model.summary()"
   ]
  },
  {
   "cell_type": "markdown",
   "metadata": {},
   "source": [
    "We will also make a callback to invoke early stop. It will monitor validation loss, since we want to minimize it as much as possible."
   ]
  },
  {
   "cell_type": "code",
   "execution_count": 6,
   "metadata": {},
   "outputs": [],
   "source": [
    "stop_early = callbacks.EarlyStopping(monitor='val_loss', patience=8)\n",
    "save_data('..\\\\save_files\\\\callbacks\\\\early_stop.pkl', stop_early)"
   ]
  },
  {
   "cell_type": "markdown",
   "metadata": {},
   "source": [
    "We set *steps_per_epoch* to 500 since *batch_size* is set to 8 and we have approx. 4000 samples in the training set. Thus, to cover as much train data as possible, we will need 500 batches of 8 images."
   ]
  },
  {
   "cell_type": "code",
   "execution_count": null,
   "metadata": {},
   "outputs": [],
   "source": [
    "baseline_history_train = baseline_model.fit(train_generator, steps_per_epoch=500, epochs=30, validation_data=validation_generator, validation_steps=175, callbacks=[stop_early], verbose=1)"
   ]
  },
  {
   "cell_type": "markdown",
   "metadata": {},
   "source": [
    "It is a good practise to save a model after training to be able to use it whenever we want without the need to retrain it if for some reason we would have lost its parameters."
   ]
  },
  {
   "cell_type": "code",
   "execution_count": 11,
   "metadata": {},
   "outputs": [],
   "source": [
    "baseline_model.save('..\\\\save_files\\\\models\\\\baseline.h5')"
   ]
  },
  {
   "cell_type": "markdown",
   "metadata": {},
   "source": [
    "And now we evaluate the model on **test** data:"
   ]
  },
  {
   "cell_type": "code",
   "execution_count": null,
   "metadata": {},
   "outputs": [],
   "source": [
    "baseline_history_train_results = baseline_model.evaluate(train_generator, batch_size=32, return_dict=True)\n",
    "baseline_history_test_results = baseline_model.evaluate(test_generator, batch_size=32, return_dict=True)\n",
    "\n",
    "save_data('..\\\\save_files\\\\evaluation_data\\\\baseline_eval.pkl', baseline_history_train_results, baseline_history_test_results)"
   ]
  },
  {
   "cell_type": "code",
   "execution_count": null,
   "metadata": {},
   "outputs": [],
   "source": [
    "print('test loss:   ', baseline_history_test_results['loss'])\n",
    "print('test recall: ', baseline_history_test_results['recall'])"
   ]
  },
  {
   "cell_type": "markdown",
   "metadata": {},
   "source": [
    "We got very good results even for the baseline model.  \n",
    "  \n",
    "Let's now visualize its training and evaluation process to see how it behaves."
   ]
  },
  {
   "cell_type": "markdown",
   "metadata": {},
   "source": [
    "## Baseline training and validation visualization"
   ]
  },
  {
   "cell_type": "code",
   "execution_count": null,
   "metadata": {},
   "outputs": [],
   "source": [
    "baseline_train_results = baseline_history_train.history\n",
    "baseline_num_epochs = np.arange(1, len(baseline_train_results['loss'])+1)\n",
    "\n",
    "save_data('..\\\\save_files\\\\plots_data\\\\baseline_plot.pkl', baseline_train_results, baseline_num_epochs)\n",
    "\n",
    "fig, axes = plt.subplots(1, 2, figsize=(17, 5))\n",
    "\n",
    "axes[0].plot(baseline_num_epochs, baseline_train_results['loss'], label='train loss', color='green')\n",
    "axes[0].plot(baseline_num_epochs, baseline_train_results['val_loss'], label='validation loss', color='red')\n",
    "axes[0].set_ylabel('loss')\n",
    "axes[0].legend()\n",
    "axes[0].grid()\n",
    "\n",
    "axes[1].plot(baseline_num_epochs, baseline_train_results['recall'], label='train recall', color='green')\n",
    "axes[1].plot(baseline_num_epochs, baseline_train_results['val_recall'], label='validation recall', color='red')\n",
    "axes[1].set_ylabel('recall')\n",
    "axes[1].legend()\n",
    "axes[1].grid()\n",
    "\n",
    "for ax in axes:\n",
    "    ax.set_xlabel('# epochs')\n",
    "\n",
    "fig.suptitle('Loss and Recall for training', fontsize=16);"
   ]
  },
  {
   "cell_type": "markdown",
   "metadata": {},
   "source": [
    "We see that model **overfits** just after a couple of epochs. This may come from the fact that training set is quite small (approx. 4000 images)."
   ]
  },
  {
   "cell_type": "markdown",
   "metadata": {},
   "source": [
    "## Augmentation"
   ]
  },
  {
   "cell_type": "markdown",
   "metadata": {},
   "source": [
    "Let's introduce some random augmentation to initial images. This way we will be able to train the model on the more generalized data to hopefully reduce overfitting."
   ]
  },
  {
   "cell_type": "code",
   "execution_count": null,
   "metadata": {},
   "outputs": [],
   "source": [
    "train_datagen_aug = ImageDataGenerator(\n",
    "    rescale=1./255,\n",
    "    rotation_range=40,\n",
    "    width_shift_range=0.2,\n",
    "    height_shift_range=0.2,\n",
    "    shear_range=0.2,\n",
    "    zoom_range=0.2,\n",
    "    horizontal_flip=True\n",
    ")\n",
    "\n",
    "train_generator_aug = train_datagen_aug.flow_from_dataframe(df_train, '..\\\\data\\\\raw\\\\merged_data\\\\',\n",
    "                                                            x_col='image_path', y_col='label',\n",
    "                                                            target_size=(512, 512), batch_size=8,\n",
    "                                                            class_mode='categorical', validate_filenames=False)"
   ]
  },
  {
   "cell_type": "markdown",
   "metadata": {},
   "source": [
    "We will use the same architecture of the model as before:"
   ]
  },
  {
   "cell_type": "code",
   "execution_count": 24,
   "metadata": {},
   "outputs": [],
   "source": [
    "tf.keras.backend.clear_session()\n",
    "\n",
    "augmented_model = models.Sequential([\n",
    "    layers.Conv2D(64, (3, 3), activation='relu', input_shape=(512, 512, 3)),\n",
    "    layers.MaxPooling2D(2, 2),\n",
    "    layers.Conv2D(128, (3, 3), activation='relu'),\n",
    "    layers.MaxPooling2D(2, 2),\n",
    "    layers.Conv2D(128, (3, 3), activation='relu'),\n",
    "    layers.MaxPooling2D(2, 2),\n",
    "    layers.Flatten(),\n",
    "    layers.Dense(256, activation='relu'),\n",
    "    layers.Dense(4, activation='softmax')\n",
    "])\n",
    "\n",
    "augmented_model.compile(loss=losses.CategoricalCrossentropy(), optimizer=optimizers.Adam(learning_rate=0.001), metrics=[metrics.Recall()])"
   ]
  },
  {
   "cell_type": "code",
   "execution_count": null,
   "metadata": {},
   "outputs": [],
   "source": [
    "augmented_history_train = augmented_model.fit(train_generator_aug, steps_per_epoch=500, epochs=30,\n",
    "                                              validation_data=validation_generator, validation_steps=175,\n",
    "                                              callbacks=[stop_early], verbose=1)"
   ]
  },
  {
   "cell_type": "code",
   "execution_count": 27,
   "metadata": {},
   "outputs": [],
   "source": [
    "augmented_model.save('..\\\\save_files\\\\models\\\\augmented.h5')"
   ]
  },
  {
   "cell_type": "markdown",
   "metadata": {},
   "source": [
    "Let's now evaluate the model on the same train data as well as test data to compare the results and see if we have overfitting:"
   ]
  },
  {
   "cell_type": "code",
   "execution_count": null,
   "metadata": {},
   "outputs": [],
   "source": [
    "augmented_history_train_results = augmented_model.evaluate(train_generator_aug, batch_size=32, return_dict=True)\n",
    "augmented_history_test = augmented_model.evaluate(test_generator, batch_size=32, return_dict=True)\n",
    "\n",
    "save_data('..\\\\save_files\\\\evaluation_data\\\\augmented_eval.pkl', augmented_history_train_results, augmented_history_test)"
   ]
  },
  {
   "cell_type": "code",
   "execution_count": null,
   "metadata": {},
   "outputs": [],
   "source": [
    "print('Evaluation results for model with augmented images input:\\n')\n",
    "print('train loss: ', augmented_history_train_results['loss'])\n",
    "print('train recall: ', augmented_history_train_results['recall'])\n",
    "print()\n",
    "print('test loss:   ', augmented_history_test['loss'])\n",
    "print('test recall: ', augmented_history_test['recall'])"
   ]
  },
  {
   "cell_type": "markdown",
   "metadata": {},
   "source": [
    "And now we visualize training process to see how does loss and recall correlate:"
   ]
  },
  {
   "cell_type": "code",
   "execution_count": null,
   "metadata": {},
   "outputs": [],
   "source": [
    "aug_train_results = augmented_history_train.history\n",
    "num_epochs = np.arange(1, len(aug_train_results['loss'])+1)\n",
    "\n",
    "save_data('..\\\\save_files\\\\plots_data\\\\augmented_plot.pkl', aug_train_results, num_epochs)\n",
    "\n",
    "fig, axes = plt.subplots(1, 2, figsize=(17, 5))\n",
    "\n",
    "axes[0].plot(num_epochs, aug_train_results['loss'], label='train loss', color='green')\n",
    "axes[0].plot(num_epochs, aug_train_results['val_loss'], label='validation loss', color='red')\n",
    "axes[0].set_ylabel('loss')\n",
    "axes[0].legend()\n",
    "axes[0].grid()\n",
    "\n",
    "axes[1].plot(num_epochs, aug_train_results['recall'], label='train recall', color='green')\n",
    "axes[1].plot(num_epochs, aug_train_results['val_recall'], label='validation recall', color='red')\n",
    "axes[1].set_ylabel('recall')\n",
    "axes[1].legend()\n",
    "axes[1].grid()\n",
    "\n",
    "for ax in axes:\n",
    "    ax.set_xlabel('# epochs')\n",
    "\n",
    "fig.suptitle('Loss and Recall for training with augmented images', fontsize=16);"
   ]
  },
  {
   "cell_type": "markdown",
   "metadata": {},
   "source": [
    "We see that by using **augmentation** we were able to get rid of **overfitting** completely. Although we see that *recall* is much smaller than of the previous model.  \n",
    "\n",
    "Possible solution - additional training."
   ]
  },
  {
   "cell_type": "markdown",
   "metadata": {},
   "source": [
    "### Additional training with augmented images"
   ]
  },
  {
   "cell_type": "markdown",
   "metadata": {},
   "source": [
    "Before additional training, let's save an old model once again (in case it goes wrong):"
   ]
  },
  {
   "cell_type": "code",
   "execution_count": 56,
   "metadata": {},
   "outputs": [],
   "source": [
    "augmented_model.save('..\\\\save_files\\\\models\\\\augmented_backup.h5')"
   ]
  },
  {
   "cell_type": "markdown",
   "metadata": {},
   "source": [
    "And continue training:"
   ]
  },
  {
   "cell_type": "code",
   "execution_count": null,
   "metadata": {},
   "outputs": [],
   "source": [
    "additional_training_history = augmented_model.fit(train_generator_aug, steps_per_epoch=500, epochs=30,\n",
    "                                                  validation_data=validation_generator, validation_steps=175,\n",
    "                                                  callbacks=[stop_early], verbose=1)"
   ]
  },
  {
   "cell_type": "markdown",
   "metadata": {},
   "source": [
    "Additional training didn't help.  \n",
    "  \n",
    "Let's now try another approach:"
   ]
  },
  {
   "cell_type": "markdown",
   "metadata": {},
   "source": [
    "### Less augmentation"
   ]
  },
  {
   "cell_type": "markdown",
   "metadata": {},
   "source": [
    "Let's now see what happens if we add a little bit of augmentation.  \n",
    "  \n",
    "In addition to that, we will also add one *DropOut* layer:"
   ]
  },
  {
   "cell_type": "code",
   "execution_count": null,
   "metadata": {},
   "outputs": [],
   "source": [
    "train_datagen_aug_small = ImageDataGenerator(\n",
    "    rescale=1./255,\n",
    "    rotation_range=5,\n",
    "    width_shift_range=0.05,\n",
    "    height_shift_range=0.05,\n",
    "    shear_range=0.05,\n",
    "    zoom_range=0.05,\n",
    "    horizontal_flip=False\n",
    ")\n",
    "\n",
    "train_generator_aug_small = train_datagen_aug_small.flow_from_dataframe(df_train, '..\\\\data\\\\raw\\\\merged_data\\\\',\n",
    "                                                                  x_col='image_path', y_col='label',\n",
    "                                                                  target_size=(512, 512), batch_size=8,\n",
    "                                                                  class_mode='categorical', validate_filenames=False)"
   ]
  },
  {
   "cell_type": "code",
   "execution_count": 13,
   "metadata": {},
   "outputs": [],
   "source": [
    "tf.keras.backend.clear_session()\n",
    "\n",
    "dropout_augmented_model = models.Sequential([\n",
    "\n",
    "        layers.Conv2D(64, (3, 3), activation='relu', input_shape=(512, 512, 3)),\n",
    "        layers.MaxPooling2D(2, 2),\n",
    "        layers.Conv2D(128, (3, 3), activation='relu'),\n",
    "        layers.MaxPooling2D(2, 2),\n",
    "        layers.Conv2D(128, (3, 3), activation='relu'),\n",
    "        layers.MaxPooling2D(2, 2),\n",
    "        layers.Flatten(),\n",
    "        layers.Dropout(0.5),\n",
    "        layers.Dense(256, activation='relu'),\n",
    "        layers.Dense(4, activation='softmax')\n",
    "])\n",
    "\n",
    "dropout_augmented_model.compile(loss=losses.CategoricalCrossentropy(), optimizer=optimizers.Adam(learning_rate=0.001), metrics=[metrics.Recall()])"
   ]
  },
  {
   "cell_type": "code",
   "execution_count": null,
   "metadata": {},
   "outputs": [],
   "source": [
    "dropout_augmented_history_train = dropout_augmented_model.fit(train_generator_aug_small, steps_per_epoch=500, epochs=60,\n",
    "                                                      validation_data=validation_generator, validation_steps=175,\n",
    "                                                      callbacks=[stop_early], verbose=1)"
   ]
  }
 ],
 "metadata": {
  "kernelspec": {
   "display_name": "tensorflow-tuner",
   "language": "python",
   "name": "python3"
  },
  "language_info": {
   "codemirror_mode": {
    "name": "ipython",
    "version": 3
   },
   "file_extension": ".py",
   "mimetype": "text/x-python",
   "name": "python",
   "nbconvert_exporter": "python",
   "pygments_lexer": "ipython3",
   "version": "3.9.19"
  }
 },
 "nbformat": 4,
 "nbformat_minor": 2
}
