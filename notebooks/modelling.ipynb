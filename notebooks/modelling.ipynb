{
 "cells": [
  {
   "cell_type": "markdown",
   "metadata": {},
   "source": [
    "# Modelling"
   ]
  },
  {
   "cell_type": "markdown",
   "metadata": {},
   "source": [
    "## Import"
   ]
  },
  {
   "cell_type": "code",
   "execution_count": 1,
   "metadata": {},
   "outputs": [],
   "source": [
    "import tensorflow as tf\n",
    "import pandas as pd\n",
    "from keras import models, layers, losses, optimizers, metrics, callbacks\n",
    "\n",
    "from keras_preprocessing.image import ImageDataGenerator\n",
    "\n",
    "%run ../scripts/save_utils.py"
   ]
  },
  {
   "cell_type": "markdown",
   "metadata": {},
   "source": [
    "## Baseline model"
   ]
  },
  {
   "cell_type": "markdown",
   "metadata": {},
   "source": [
    "## Data Load"
   ]
  },
  {
   "cell_type": "code",
   "execution_count": 2,
   "metadata": {},
   "outputs": [],
   "source": [
    "x_train, y_train, x_val, y_val, x_test, y_test = load_data('../save_files/processed_data.pkl')"
   ]
  },
  {
   "cell_type": "code",
   "execution_count": 3,
   "metadata": {},
   "outputs": [],
   "source": [
    "df_train = pd.DataFrame({'image_path':x_train, 'label':y_train})\n",
    "df_val = pd.DataFrame({'image_path':x_val, 'label':y_val})\n",
    "df_test = pd.DataFrame({'image_path':x_test, 'label':y_test})"
   ]
  },
  {
   "cell_type": "markdown",
   "metadata": {},
   "source": [
    "## ImageDataGenerator"
   ]
  },
  {
   "cell_type": "markdown",
   "metadata": {},
   "source": [
    "Let's initialize data generators. Most importantly, they will rescale vectorized images such that the values are going to be in range 0-1."
   ]
  },
  {
   "cell_type": "code",
   "execution_count": 4,
   "metadata": {},
   "outputs": [],
   "source": [
    "train_datagen = ImageDataGenerator(rescale=1./255)\n",
    "val_datagen = ImageDataGenerator(rescale=1./255)\n",
    "test_datagen = ImageDataGenerator(rescale=1./255)"
   ]
  },
  {
   "cell_type": "markdown",
   "metadata": {},
   "source": [
    "Now we need to specify the directories in which these images reside. I have decided to keep original resolution of 512x512 pixels. The *batch_size* is relatively small to reduce memory usage."
   ]
  },
  {
   "cell_type": "code",
   "execution_count": 5,
   "metadata": {},
   "outputs": [
    {
     "name": "stdout",
     "output_type": "stream",
     "text": [
      "Found 4213 non-validated image filenames belonging to 4 classes.\n",
      "Found 1405 non-validated image filenames belonging to 4 classes.\n",
      "Found 1405 non-validated image filenames belonging to 4 classes.\n"
     ]
    }
   ],
   "source": [
    "train_generator = train_datagen.flow_from_dataframe(df_train, '..\\\\data\\\\raw\\\\merged_data\\\\',\n",
    "                                                    x_col='image_path', y_col='label',\n",
    "                                                    target_size=(512, 512), batch_size=8,\n",
    "                                                    class_mode='categorical', validate_filenames=False)\n",
    "\n",
    "validation_generator = val_datagen.flow_from_dataframe(df_val, '..\\\\data\\\\raw\\\\merged_data\\\\',\n",
    "                                                       x_col='image_path', y_col='label',\n",
    "                                                       target_size=(512, 512), batch_size=8,\n",
    "                                                       class_mode='categorical', validate_filenames=False)\n",
    "\n",
    "test_generator = test_datagen.flow_from_dataframe(df_test, '..\\\\data\\\\raw\\\\merged_data\\\\',\n",
    "                                                  x_col='image_path', y_col='label',\n",
    "                                                  target_size=(512, 512), batch_size=8,\n",
    "                                                  class_mode='categorical', validate_filenames=False)"
   ]
  },
  {
   "cell_type": "markdown",
   "metadata": {},
   "source": [
    "Now we initialize a baseline model. Notice that I have used *clear_session* to reset all variables that model might save before each use of the model (i.e. when re-running notebook)."
   ]
  },
  {
   "cell_type": "code",
   "execution_count": 6,
   "metadata": {},
   "outputs": [],
   "source": [
    "tf.keras.backend.clear_session()\n",
    "\n",
    "baseline_model = models.Sequential()\n",
    "baseline_model.add(layers.Conv2D(64, (3, 3), activation='relu', input_shape=(512, 512, 3)))\n",
    "baseline_model.add(layers.MaxPooling2D(2, 2))\n",
    "baseline_model.add(layers.Conv2D(128, (3, 3), activation='relu'))\n",
    "baseline_model.add(layers.MaxPooling2D(2, 2))\n",
    "baseline_model.add(layers.Conv2D(128, (3, 3), activation='relu'))\n",
    "baseline_model.add(layers.MaxPooling2D(2, 2))\n",
    "baseline_model.add(layers.Flatten())\n",
    "baseline_model.add(layers.Dense(256, activation='relu'))\n",
    "baseline_model.add(layers.Dense(4, activation='softmax'))"
   ]
  },
  {
   "cell_type": "code",
   "execution_count": 7,
   "metadata": {},
   "outputs": [
    {
     "name": "stdout",
     "output_type": "stream",
     "text": [
      "Model: \"sequential\"\n",
      "_________________________________________________________________\n",
      " Layer (type)                Output Shape              Param #   \n",
      "=================================================================\n",
      " conv2d (Conv2D)             (None, 510, 510, 64)      1792      \n",
      "                                                                 \n",
      " max_pooling2d (MaxPooling2D  (None, 255, 255, 64)     0         \n",
      " )                                                               \n",
      "                                                                 \n",
      " conv2d_1 (Conv2D)           (None, 253, 253, 128)     73856     \n",
      "                                                                 \n",
      " max_pooling2d_1 (MaxPooling  (None, 126, 126, 128)    0         \n",
      " 2D)                                                             \n",
      "                                                                 \n",
      " conv2d_2 (Conv2D)           (None, 124, 124, 128)     147584    \n",
      "                                                                 \n",
      " max_pooling2d_2 (MaxPooling  (None, 62, 62, 128)      0         \n",
      " 2D)                                                             \n",
      "                                                                 \n",
      " flatten (Flatten)           (None, 492032)            0         \n",
      "                                                                 \n",
      " dense (Dense)               (None, 256)               125960448 \n",
      "                                                                 \n",
      " dense_1 (Dense)             (None, 4)                 1028      \n",
      "                                                                 \n",
      "=================================================================\n",
      "Total params: 126,184,708\n",
      "Trainable params: 126,184,708\n",
      "Non-trainable params: 0\n",
      "_________________________________________________________________\n"
     ]
    }
   ],
   "source": [
    "baseline_model.summary()"
   ]
  },
  {
   "cell_type": "code",
   "execution_count": 8,
   "metadata": {},
   "outputs": [],
   "source": [
    "baseline_model.compile(loss=losses.CategoricalCrossentropy(), optimizer=optimizers.Adam(learning_rate=0.001), metrics=[metrics.Recall()])"
   ]
  },
  {
   "cell_type": "markdown",
   "metadata": {},
   "source": [
    "We will also make a callback to invoke early stop. It will monitor validation loss, since we want to minimize it as much as possible."
   ]
  },
  {
   "cell_type": "code",
   "execution_count": 9,
   "metadata": {},
   "outputs": [],
   "source": [
    "stop_early = callbacks.EarlyStopping(monitor='val_loss', patience=5)"
   ]
  },
  {
   "cell_type": "markdown",
   "metadata": {},
   "source": [
    "We set *steps_per_epoch* to 500 since *batch_size* is set to 8 and we have approx. 4000 samples in the training set. Thus, to cover as much train data as possible, we will need 500 batches of 8 images."
   ]
  },
  {
   "cell_type": "code",
   "execution_count": 10,
   "metadata": {},
   "outputs": [
    {
     "name": "stdout",
     "output_type": "stream",
     "text": [
      "Epoch 1/30\n",
      "500/500 [==============================] - 70s 122ms/step - loss: 0.7251 - recall: 0.6495 - val_loss: 0.4352 - val_recall: 0.8225\n",
      "Epoch 2/30\n",
      "500/500 [==============================] - 58s 115ms/step - loss: 0.2969 - recall: 0.8757 - val_loss: 0.3875 - val_recall: 0.8425\n",
      "Epoch 3/30\n",
      "500/500 [==============================] - 57s 115ms/step - loss: 0.1444 - recall: 0.9440 - val_loss: 0.2924 - val_recall: 0.8800\n",
      "Epoch 4/30\n",
      "500/500 [==============================] - 57s 114ms/step - loss: 0.0725 - recall: 0.9758 - val_loss: 0.3059 - val_recall: 0.9175\n",
      "Epoch 5/30\n",
      "500/500 [==============================] - 57s 114ms/step - loss: 0.0816 - recall: 0.9770 - val_loss: 0.4697 - val_recall: 0.8850\n",
      "Epoch 6/30\n",
      "500/500 [==============================] - 57s 113ms/step - loss: 0.0202 - recall: 0.9932 - val_loss: 0.5446 - val_recall: 0.9125\n",
      "Epoch 7/30\n",
      "500/500 [==============================] - 57s 113ms/step - loss: 0.0139 - recall: 0.9940 - val_loss: 1.0627 - val_recall: 0.8750\n",
      "Epoch 8/30\n",
      "500/500 [==============================] - 55s 111ms/step - loss: 0.0668 - recall: 0.9845 - val_loss: 0.4089 - val_recall: 0.9050\n"
     ]
    },
    {
     "data": {
      "text/plain": [
       "<keras.callbacks.History at 0x20b828bf9d0>"
      ]
     },
     "execution_count": 10,
     "metadata": {},
     "output_type": "execute_result"
    }
   ],
   "source": [
    "baseline_model.fit(train_generator, steps_per_epoch=500, epochs=30, validation_data=validation_generator, validation_steps=50, callbacks=[stop_early], verbose=1)"
   ]
  },
  {
   "cell_type": "markdown",
   "metadata": {},
   "source": [
    "It is a good practise to save a model after training to be able to use it whenever we want without the need to retrain it if for some reason we would have lost its parameters."
   ]
  },
  {
   "cell_type": "code",
   "execution_count": 11,
   "metadata": {},
   "outputs": [],
   "source": [
    "baseline_model.save('..\\\\save_files\\\\baseline.h5')"
   ]
  },
  {
   "cell_type": "markdown",
   "metadata": {},
   "source": [
    "And now we evaluate the model on **test** data:"
   ]
  },
  {
   "cell_type": "code",
   "execution_count": 12,
   "metadata": {},
   "outputs": [
    {
     "name": "stdout",
     "output_type": "stream",
     "text": [
      "176/176 [==============================] - 6s 32ms/step - loss: 0.4382 - recall: 0.9053\n"
     ]
    }
   ],
   "source": [
    "history = baseline_model.evaluate(test_generator, batch_size=32, return_dict=True)"
   ]
  },
  {
   "cell_type": "code",
   "execution_count": 13,
   "metadata": {},
   "outputs": [
    {
     "name": "stdout",
     "output_type": "stream",
     "text": [
      "test loss:    0.4382476210594177\n",
      "test recall:  0.9053380489349365\n"
     ]
    }
   ],
   "source": [
    "print('test loss:   ', history['loss'])\n",
    "print('test recall: ', history['recall'])"
   ]
  },
  {
   "cell_type": "markdown",
   "metadata": {},
   "source": [
    "We got very good results even for the baseline model.  \n",
    "  \n",
    "Let's now visualize its training and evaluation process to see how it behaves."
   ]
  },
  {
   "cell_type": "markdown",
   "metadata": {},
   "source": [
    "## Baseline training and validation visualization"
   ]
  }
 ],
 "metadata": {
  "kernelspec": {
   "display_name": "tensorflow-tuner",
   "language": "python",
   "name": "python3"
  },
  "language_info": {
   "codemirror_mode": {
    "name": "ipython",
    "version": 3
   },
   "file_extension": ".py",
   "mimetype": "text/x-python",
   "name": "python",
   "nbconvert_exporter": "python",
   "pygments_lexer": "ipython3",
   "version": "3.9.19"
  }
 },
 "nbformat": 4,
 "nbformat_minor": 2
}
