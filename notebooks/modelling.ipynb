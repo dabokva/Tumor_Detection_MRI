{
 "cells": [
  {
   "cell_type": "markdown",
   "metadata": {},
   "source": [
    "# Modelling"
   ]
  },
  {
   "cell_type": "code",
   "execution_count": 1,
   "metadata": {},
   "outputs": [],
   "source": [
    "import tensorflow as tf\n",
    "import pandas as pd\n",
    "from keras import models, layers, losses, optimizers, metrics, callbacks\n",
    "\n",
    "from keras_preprocessing.image import ImageDataGenerator\n",
    "\n",
    "%run ../scripts/save_utils.py"
   ]
  },
  {
   "cell_type": "markdown",
   "metadata": {},
   "source": [
    "## Baseline model"
   ]
  },
  {
   "cell_type": "code",
   "execution_count": 2,
   "metadata": {},
   "outputs": [],
   "source": [
    "x_train, y_train, x_val, y_val, x_test, y_test = load_data('../save_files/processed_data.pkl')"
   ]
  },
  {
   "cell_type": "code",
   "execution_count": 3,
   "metadata": {},
   "outputs": [],
   "source": [
    "df_train = pd.DataFrame({'image_path':x_train, 'label':y_train})\n",
    "df_val = pd.DataFrame({'image_path':x_val, 'label':y_val})\n",
    "df_test = pd.DataFrame({'image_path':x_test, 'label':y_test})"
   ]
  },
  {
   "cell_type": "code",
   "execution_count": 4,
   "metadata": {},
   "outputs": [],
   "source": [
    "train_datagen = ImageDataGenerator(rescale=1./255)\n",
    "val_datagen = ImageDataGenerator(rescale=1./255)\n",
    "test_datagen = ImageDataGenerator(rescale=1./255)"
   ]
  },
  {
   "cell_type": "code",
   "execution_count": 5,
   "metadata": {},
   "outputs": [
    {
     "name": "stdout",
     "output_type": "stream",
     "text": [
      "Found 4213 non-validated image filenames belonging to 4 classes.\n",
      "Found 1405 non-validated image filenames belonging to 4 classes.\n",
      "Found 1405 non-validated image filenames belonging to 4 classes.\n"
     ]
    }
   ],
   "source": [
    "train_generator = train_datagen.flow_from_dataframe(df_train, '..\\\\data\\\\raw\\\\merged_data\\\\',\n",
    "                                                    x_col='image_path', y_col='label',\n",
    "                                                    target_size=(512, 512), batch_size=10,\n",
    "                                                    class_mode='categorical', validate_filenames=False)\n",
    "\n",
    "validation_generator = val_datagen.flow_from_dataframe(df_val, '..\\\\data\\\\raw\\\\merged_data\\\\',\n",
    "                                                       x_col='image_path', y_col='label',\n",
    "                                                       target_size=(512, 512), batch_size=10,\n",
    "                                                       class_mode='categorical', validate_filenames=False)\n",
    "\n",
    "test_generator = test_datagen.flow_from_dataframe(df_test, '..\\\\data\\\\raw\\\\merged_data\\\\',\n",
    "                                                  x_col='image_path', y_col='label',\n",
    "                                                  target_size=(512, 512), batch_size=10,\n",
    "                                                  class_mode='categorical', validate_filenames=False)"
   ]
  },
  {
   "cell_type": "code",
   "execution_count": 6,
   "metadata": {},
   "outputs": [],
   "source": [
    "tf.keras.backend.clear_session()\n",
    "\n",
    "baseline_model = models.Sequential()\n",
    "baseline_model.add(layers.Conv2D(64, (3, 3), activation='relu', input_shape=(512, 512, 3)))\n",
    "baseline_model.add(layers.MaxPooling2D(2, 2))\n",
    "baseline_model.add(layers.Conv2D(128, (3, 3), activation='relu'))\n",
    "baseline_model.add(layers.MaxPooling2D(2, 2))\n",
    "baseline_model.add(layers.Conv2D(128, (3, 3), activation='relu'))\n",
    "baseline_model.add(layers.MaxPooling2D(2, 2))\n",
    "baseline_model.add(layers.Flatten())\n",
    "baseline_model.add(layers.Dense(256, activation='relu'))\n",
    "baseline_model.add(layers.Dense(4, activation='softmax'))"
   ]
  },
  {
   "cell_type": "code",
   "execution_count": 7,
   "metadata": {},
   "outputs": [
    {
     "name": "stdout",
     "output_type": "stream",
     "text": [
      "Model: \"sequential\"\n",
      "_________________________________________________________________\n",
      " Layer (type)                Output Shape              Param #   \n",
      "=================================================================\n",
      " conv2d (Conv2D)             (None, 510, 510, 64)      1792      \n",
      "                                                                 \n",
      " max_pooling2d (MaxPooling2D  (None, 255, 255, 64)     0         \n",
      " )                                                               \n",
      "                                                                 \n",
      " conv2d_1 (Conv2D)           (None, 253, 253, 128)     73856     \n",
      "                                                                 \n",
      " max_pooling2d_1 (MaxPooling  (None, 126, 126, 128)    0         \n",
      " 2D)                                                             \n",
      "                                                                 \n",
      " conv2d_2 (Conv2D)           (None, 124, 124, 128)     147584    \n",
      "                                                                 \n",
      " max_pooling2d_2 (MaxPooling  (None, 62, 62, 128)      0         \n",
      " 2D)                                                             \n",
      "                                                                 \n",
      " flatten (Flatten)           (None, 492032)            0         \n",
      "                                                                 \n",
      " dense (Dense)               (None, 256)               125960448 \n",
      "                                                                 \n",
      " dense_1 (Dense)             (None, 4)                 1028      \n",
      "                                                                 \n",
      "=================================================================\n",
      "Total params: 126,184,708\n",
      "Trainable params: 126,184,708\n",
      "Non-trainable params: 0\n",
      "_________________________________________________________________\n"
     ]
    }
   ],
   "source": [
    "baseline_model.summary()"
   ]
  },
  {
   "cell_type": "code",
   "execution_count": 8,
   "metadata": {},
   "outputs": [],
   "source": [
    "baseline_model.compile(loss=losses.CategoricalCrossentropy(), optimizer=optimizers.Adam(learning_rate=0.001), metrics=[metrics.Recall()])"
   ]
  },
  {
   "cell_type": "code",
   "execution_count": 9,
   "metadata": {},
   "outputs": [],
   "source": [
    "stop_early = callbacks.EarlyStopping(monitor='val_loss', patience=5)"
   ]
  },
  {
   "cell_type": "code",
   "execution_count": 10,
   "metadata": {},
   "outputs": [
    {
     "name": "stdout",
     "output_type": "stream",
     "text": [
      "Epoch 1/30\n",
      "100/100 [==============================] - 28s 183ms/step - loss: 1.3590 - recall: 0.4079 - val_loss: 0.5463 - val_recall: 0.7500\n",
      "Epoch 2/30\n",
      "100/100 [==============================] - 17s 165ms/step - loss: 0.6324 - recall: 0.6908 - val_loss: 0.5182 - val_recall: 0.7740\n",
      "Epoch 3/30\n",
      "100/100 [==============================] - 17s 165ms/step - loss: 0.4781 - recall: 0.8000 - val_loss: 0.5612 - val_recall: 0.7560\n",
      "Epoch 4/30\n",
      "100/100 [==============================] - 16s 162ms/step - loss: 0.3725 - recall: 0.8460 - val_loss: 0.3573 - val_recall: 0.8720\n",
      "Epoch 5/30\n",
      "100/100 [==============================] - 15s 148ms/step - loss: 0.2906 - recall: 0.9040 - val_loss: 0.3605 - val_recall: 0.8660\n",
      "Epoch 6/30\n",
      "100/100 [==============================] - 15s 149ms/step - loss: 0.2570 - recall: 0.8970 - val_loss: 0.2721 - val_recall: 0.9120\n",
      "Epoch 7/30\n",
      "100/100 [==============================] - 15s 148ms/step - loss: 0.2264 - recall: 0.9134 - val_loss: 0.2759 - val_recall: 0.9200\n",
      "Epoch 8/30\n",
      "100/100 [==============================] - 15s 147ms/step - loss: 0.1720 - recall: 0.9410 - val_loss: 0.3001 - val_recall: 0.8940\n",
      "Epoch 9/30\n",
      "100/100 [==============================] - 15s 147ms/step - loss: 0.1461 - recall: 0.9540 - val_loss: 0.2561 - val_recall: 0.9240\n",
      "Epoch 10/30\n",
      "100/100 [==============================] - 15s 147ms/step - loss: 0.1021 - recall: 0.9560 - val_loss: 0.2898 - val_recall: 0.9080\n",
      "Epoch 11/30\n",
      "100/100 [==============================] - 15s 149ms/step - loss: 0.0833 - recall: 0.9690 - val_loss: 0.2352 - val_recall: 0.9220\n",
      "Epoch 12/30\n",
      "100/100 [==============================] - 15s 151ms/step - loss: 0.0712 - recall: 0.9728 - val_loss: 0.2208 - val_recall: 0.9280\n",
      "Epoch 13/30\n",
      "100/100 [==============================] - 17s 165ms/step - loss: 0.0961 - recall: 0.9710 - val_loss: 0.3101 - val_recall: 0.9220\n",
      "Epoch 14/30\n",
      "100/100 [==============================] - 16s 164ms/step - loss: 0.0556 - recall: 0.9790 - val_loss: 0.3218 - val_recall: 0.9340\n",
      "Epoch 15/30\n",
      "100/100 [==============================] - 16s 164ms/step - loss: 0.0815 - recall: 0.9720 - val_loss: 0.2092 - val_recall: 0.9320\n",
      "Epoch 16/30\n",
      "100/100 [==============================] - 17s 164ms/step - loss: 0.1210 - recall: 0.9610 - val_loss: 0.3563 - val_recall: 0.9260\n",
      "Epoch 17/30\n",
      "100/100 [==============================] - 16s 162ms/step - loss: 0.0428 - recall: 0.9829 - val_loss: 0.1882 - val_recall: 0.9540\n",
      "Epoch 18/30\n",
      "100/100 [==============================] - 17s 164ms/step - loss: 0.0329 - recall: 0.9899 - val_loss: 0.3884 - val_recall: 0.8980\n",
      "Epoch 19/30\n",
      "100/100 [==============================] - 16s 163ms/step - loss: 0.0352 - recall: 0.9889 - val_loss: 0.3218 - val_recall: 0.9260\n",
      "Epoch 20/30\n",
      "100/100 [==============================] - 16s 163ms/step - loss: 0.0468 - recall: 0.9869 - val_loss: 0.3221 - val_recall: 0.9100\n",
      "Epoch 21/30\n",
      "100/100 [==============================] - 16s 162ms/step - loss: 0.0719 - recall: 0.9840 - val_loss: 0.1851 - val_recall: 0.9400\n",
      "Epoch 22/30\n",
      "100/100 [==============================] - 15s 146ms/step - loss: 0.0150 - recall: 0.9960 - val_loss: 0.4376 - val_recall: 0.8900\n",
      "Epoch 23/30\n",
      "100/100 [==============================] - 15s 147ms/step - loss: 0.0374 - recall: 0.9900 - val_loss: 0.2648 - val_recall: 0.9120\n",
      "Epoch 24/30\n",
      "100/100 [==============================] - 15s 147ms/step - loss: 0.0188 - recall: 0.9930 - val_loss: 0.3521 - val_recall: 0.9320\n",
      "Epoch 25/30\n",
      "100/100 [==============================] - 15s 148ms/step - loss: 0.0150 - recall: 0.9960 - val_loss: 0.2942 - val_recall: 0.9240\n",
      "Epoch 26/30\n",
      "100/100 [==============================] - 15s 147ms/step - loss: 0.0106 - recall: 0.9950 - val_loss: 0.2461 - val_recall: 0.9400\n"
     ]
    },
    {
     "data": {
      "text/plain": [
       "<keras.callbacks.History at 0x21b9e2809a0>"
      ]
     },
     "execution_count": 10,
     "metadata": {},
     "output_type": "execute_result"
    }
   ],
   "source": [
    "baseline_model.fit(train_generator, steps_per_epoch=100, epochs=30, validation_data=validation_generator, validation_steps=50, callbacks=[stop_early], verbose=1)"
   ]
  },
  {
   "cell_type": "code",
   "execution_count": 11,
   "metadata": {},
   "outputs": [],
   "source": [
    "baseline_model.save('..\\\\save_files\\\\baseline.h5') #weighs too much for upload haha"
   ]
  },
  {
   "cell_type": "code",
   "execution_count": 12,
   "metadata": {},
   "outputs": [
    {
     "name": "stdout",
     "output_type": "stream",
     "text": [
      "141/141 [==============================] - 13s 92ms/step - loss: 0.3618 - recall: 0.9317\n"
     ]
    }
   ],
   "source": [
    "history = baseline_model.evaluate(test_generator, batch_size=32, return_dict=True)"
   ]
  },
  {
   "cell_type": "code",
   "execution_count": 13,
   "metadata": {},
   "outputs": [
    {
     "name": "stdout",
     "output_type": "stream",
     "text": [
      "test loss:    0.361837774515152\n",
      "test recall:  0.9316725730895996\n"
     ]
    }
   ],
   "source": [
    "print('test loss:   ', history['loss'])\n",
    "print('test recall: ', history['recall'])"
   ]
  }
 ],
 "metadata": {
  "kernelspec": {
   "display_name": "tensorflow-tuner",
   "language": "python",
   "name": "python3"
  },
  "language_info": {
   "codemirror_mode": {
    "name": "ipython",
    "version": 3
   },
   "file_extension": ".py",
   "mimetype": "text/x-python",
   "name": "python",
   "nbconvert_exporter": "python",
   "pygments_lexer": "ipython3",
   "version": "3.9.19"
  }
 },
 "nbformat": 4,
 "nbformat_minor": 2
}
