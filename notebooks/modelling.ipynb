{
 "cells": [
  {
   "cell_type": "markdown",
   "metadata": {},
   "source": [
    "# Modelling"
   ]
  },
  {
   "cell_type": "markdown",
   "metadata": {},
   "source": [
    "## Import"
   ]
  },
  {
   "cell_type": "code",
   "execution_count": null,
   "metadata": {},
   "outputs": [],
   "source": [
    "import tensorflow as tf\n",
    "import pandas as pd\n",
    "import numpy as np\n",
    "from keras_preprocessing.image import ImageDataGenerator\n",
    "from keras import models, layers, losses, optimizers, metrics, callbacks\n",
    "from keras.models import load_model\n",
    "\n",
    "import matplotlib.pyplot as plt\n",
    "\n",
    "#temporary solutions\n",
    "%run ../scripts/save_utils.py\n",
    "%run ../scripts/loss_recall_plot.py\n",
    "%run ../notebooks/loader_modelling.ipynb"
   ]
  },
  {
   "cell_type": "markdown",
   "metadata": {},
   "source": [
    "## Baseline model"
   ]
  },
  {
   "cell_type": "markdown",
   "metadata": {},
   "source": [
    "### ImageDataGenerator"
   ]
  },
  {
   "cell_type": "markdown",
   "metadata": {},
   "source": [
    "Let's initialize data generators. Most importantly, they will rescale vectorized images such that the values are going to be in range 0-1."
   ]
  },
  {
   "cell_type": "code",
   "execution_count": 85,
   "metadata": {},
   "outputs": [],
   "source": [
    "train_datagen = ImageDataGenerator(rescale=1./255)\n",
    "val_datagen = ImageDataGenerator(rescale=1./255)\n",
    "test_datagen = ImageDataGenerator(rescale=1./255)"
   ]
  },
  {
   "cell_type": "markdown",
   "metadata": {},
   "source": [
    "Now we need to specify the directories in which these images reside. I have decided to keep original resolution of 512x512 pixels. The *batch_size* is relatively small to reduce memory usage."
   ]
  },
  {
   "cell_type": "code",
   "execution_count": null,
   "metadata": {},
   "outputs": [],
   "source": [
    "train_generator = train_datagen.flow_from_dataframe(df_train, '..\\\\data\\\\raw\\\\merged_data\\\\',\n",
    "                                                    x_col='image_path', y_col='label',\n",
    "                                                    target_size=(512, 512), batch_size=8,\n",
    "                                                    class_mode='categorical', validate_filenames=False)\n",
    "\n",
    "validation_generator = val_datagen.flow_from_dataframe(df_val, '..\\\\data\\\\raw\\\\merged_data\\\\',\n",
    "                                                       x_col='image_path', y_col='label',\n",
    "                                                       target_size=(512, 512), batch_size=8,\n",
    "                                                       class_mode='categorical', validate_filenames=False)\n",
    "\n",
    "test_generator = test_datagen.flow_from_dataframe(df_test, '..\\\\data\\\\raw\\\\merged_data\\\\',\n",
    "                                                  x_col='image_path', y_col='label',\n",
    "                                                  target_size=(512, 512), batch_size=8,\n",
    "                                                  class_mode='categorical', validate_filenames=False)"
   ]
  },
  {
   "cell_type": "markdown",
   "metadata": {},
   "source": [
    "Now we initialize a baseline model. Notice that I have used *clear_session* to reset all variables that model might save before each use of the model (i.e. when re-running notebook)."
   ]
  },
  {
   "cell_type": "code",
   "execution_count": 87,
   "metadata": {},
   "outputs": [],
   "source": [
    "tf.keras.backend.clear_session()\n",
    "\n",
    "baseline_model = models.Sequential([\n",
    "    layers.Conv2D(64, (3, 3), activation='relu', input_shape=(512, 512, 3)),\n",
    "    layers.MaxPooling2D(2, 2),\n",
    "    layers.Conv2D(128, (3, 3), activation='relu'),\n",
    "    layers.MaxPooling2D(2, 2),\n",
    "    layers.Conv2D(128, (3, 3), activation='relu'),\n",
    "    layers.MaxPooling2D(2, 2),\n",
    "    layers.Flatten(),\n",
    "    layers.Dense(256, activation='relu'),\n",
    "    layers.Dense(4, activation='softmax')\n",
    "\n",
    "])\n",
    "\n",
    "baseline_model.compile(loss=losses.CategoricalCrossentropy(), optimizer=optimizers.Adam(learning_rate=0.001), metrics=[metrics.Recall()])"
   ]
  },
  {
   "cell_type": "code",
   "execution_count": null,
   "metadata": {},
   "outputs": [],
   "source": [
    "baseline_model.summary()"
   ]
  },
  {
   "cell_type": "markdown",
   "metadata": {},
   "source": [
    "We will also make a callback to invoke early stop. It will monitor validation loss, since we want to minimize it as much as possible."
   ]
  },
  {
   "cell_type": "code",
   "execution_count": null,
   "metadata": {},
   "outputs": [],
   "source": [
    "stop_early = callbacks.EarlyStopping(monitor='val_loss', patience=8)\n",
    "save_data(stop_early, 'callback', '../save_files/callbacks/stop_early.pkl')"
   ]
  },
  {
   "cell_type": "markdown",
   "metadata": {},
   "source": [
    "We set *steps_per_epoch* to 500 since *batch_size* is set to 8 and we have approx. 4000 samples in the training set. Thus, to cover as much train data as possible, we will need 500 batches of 8 images."
   ]
  },
  {
   "cell_type": "code",
   "execution_count": null,
   "metadata": {},
   "outputs": [],
   "source": [
    "baseline_history = baseline_model.fit(train_generator, steps_per_epoch=500, epochs=30, validation_data=validation_generator, validation_steps=175, callbacks=[stop_early], verbose=1)"
   ]
  },
  {
   "cell_type": "markdown",
   "metadata": {},
   "source": [
    "It is a good practise to save a model after training to be able to use it whenever we want without the need to retrain it if for some reason we would have lost its parameters."
   ]
  },
  {
   "cell_type": "code",
   "execution_count": 91,
   "metadata": {},
   "outputs": [],
   "source": [
    "baseline_model.save('../save_files/models/baseline.h5')"
   ]
  },
  {
   "cell_type": "markdown",
   "metadata": {},
   "source": [
    "And now we evaluate the model on **test** data:"
   ]
  },
  {
   "cell_type": "code",
   "execution_count": null,
   "metadata": {},
   "outputs": [],
   "source": [
    "baseline_train_results = baseline_model.evaluate(train_generator, batch_size=32, return_dict=True)\n",
    "baseline_test_results = baseline_model.evaluate(test_generator, batch_size=32, return_dict=True)\n",
    "\n",
    "save_data(baseline_train_results, 'evaluation_data', '../save_files/evaluation/baseline_train_results.pkl')\n",
    "save_data(baseline_test_results, 'evaluation_data', '../save_files/evaluation/baseline_test_results.pkl')"
   ]
  },
  {
   "cell_type": "code",
   "execution_count": null,
   "metadata": {},
   "outputs": [],
   "source": [
    "print('Evaluation results for baseline model:\\n')\n",
    "print('train loss: ', baseline_train_results['loss'])\n",
    "print('train recall: ', baseline_train_results['recall'])\n",
    "print()\n",
    "print('test loss:   ', baseline_test_results['loss'])\n",
    "print('test recall: ', baseline_test_results['recall'])"
   ]
  },
  {
   "cell_type": "markdown",
   "metadata": {},
   "source": [
    "We got very good results even for the baseline model.  \n",
    "  \n",
    "Let's now visualize its training and evaluation process to see how it behaves."
   ]
  },
  {
   "cell_type": "markdown",
   "metadata": {},
   "source": [
    "### Baseline training and validation visualization"
   ]
  },
  {
   "cell_type": "code",
   "execution_count": null,
   "metadata": {},
   "outputs": [],
   "source": [
    "baseline_train_log = baseline_history.history\n",
    "baseline_num_epochs = np.arange(1, len(baseline_train_log['loss'])+1)\n",
    "\n",
    "save_data(baseline_train_log, 'train_log', '../save_files/train_log/baseline_train_log.pkl')\n",
    "save_data(baseline_num_epochs, 'epochs', '../save_files/train_log/baseline_num_epochs.pkl')\n",
    "\n",
    "loss_recall_plot(baseline_train_log, 'Loss and Recall for baseline model during training')"
   ]
  },
  {
   "cell_type": "markdown",
   "metadata": {},
   "source": [
    "We see that model **overfits** just after a couple of epochs. This may come from the fact that training set is quite small (approx. 4000 images)."
   ]
  },
  {
   "cell_type": "markdown",
   "metadata": {},
   "source": [
    "## Augmentation"
   ]
  },
  {
   "cell_type": "markdown",
   "metadata": {},
   "source": [
    "Let's introduce some random augmentation to initial images. This way we will be able to train the model on the more generalized data to hopefully reduce overfitting."
   ]
  },
  {
   "cell_type": "code",
   "execution_count": null,
   "metadata": {},
   "outputs": [],
   "source": [
    "train_aug = ImageDataGenerator(\n",
    "    rescale=1./255,\n",
    "    rotation_range=40,\n",
    "    width_shift_range=0.2,\n",
    "    height_shift_range=0.2,\n",
    "    shear_range=0.2,\n",
    "    zoom_range=0.2,\n",
    "    horizontal_flip=True\n",
    ")\n",
    "\n",
    "train_generator_aug = train_aug.flow_from_dataframe(df_train, '..\\\\data\\\\raw\\\\merged_data\\\\',\n",
    "                                                            x_col='image_path', y_col='label',\n",
    "                                                            target_size=(512, 512), batch_size=8,\n",
    "                                                            class_mode='categorical', validate_filenames=False)"
   ]
  },
  {
   "cell_type": "markdown",
   "metadata": {},
   "source": [
    "We will use the same architecture of the model as before:"
   ]
  },
  {
   "cell_type": "code",
   "execution_count": 24,
   "metadata": {},
   "outputs": [],
   "source": [
    "tf.keras.backend.clear_session()\n",
    "\n",
    "augmented_model = models.Sequential([\n",
    "    layers.Conv2D(64, (3, 3), activation='relu', input_shape=(512, 512, 3)),\n",
    "    layers.MaxPooling2D(2, 2),\n",
    "    layers.Conv2D(128, (3, 3), activation='relu'),\n",
    "    layers.MaxPooling2D(2, 2),\n",
    "    layers.Conv2D(128, (3, 3), activation='relu'),\n",
    "    layers.MaxPooling2D(2, 2),\n",
    "    layers.Flatten(),\n",
    "    layers.Dense(256, activation='relu'),\n",
    "    layers.Dense(4, activation='softmax')\n",
    "])\n",
    "\n",
    "augmented_model.compile(loss=losses.CategoricalCrossentropy(), optimizer=optimizers.Adam(learning_rate=0.001), metrics=[metrics.Recall()])"
   ]
  },
  {
   "cell_type": "code",
   "execution_count": null,
   "metadata": {},
   "outputs": [],
   "source": [
    "augmented_model.summary()"
   ]
  },
  {
   "cell_type": "code",
   "execution_count": null,
   "metadata": {},
   "outputs": [],
   "source": [
    "augmented_history = augmented_model.fit(train_generator_aug, steps_per_epoch=500, epochs=30,\n",
    "                                              validation_data=validation_generator, validation_steps=175,\n",
    "                                              callbacks=[stop_early], verbose=1)"
   ]
  },
  {
   "cell_type": "code",
   "execution_count": 27,
   "metadata": {},
   "outputs": [],
   "source": [
    "augmented_model.save('../save_files/models//augmented.h5')"
   ]
  },
  {
   "cell_type": "markdown",
   "metadata": {},
   "source": [
    "Let's now evaluate the model on the same train data as well as test data to compare the results and see if we have overfitting:"
   ]
  },
  {
   "cell_type": "code",
   "execution_count": null,
   "metadata": {},
   "outputs": [],
   "source": [
    "augmented_train_results = augmented_model.evaluate(train_generator_aug, batch_size=32, return_dict=True)\n",
    "augmented_test_results = augmented_model.evaluate(test_generator, batch_size=32, return_dict=True)\n",
    "\n",
    "save_data(augmented_train_results, 'evaluation_data', '../save_files/evaluation/augmented_train_results.pkl')\n",
    "save_data(augmented_test_results, 'evaluation_data', '../save_files/evaluation/augmented_test_results.pkl')"
   ]
  },
  {
   "cell_type": "code",
   "execution_count": null,
   "metadata": {},
   "outputs": [],
   "source": [
    "print('Evaluation results for model with augmented images input:\\n')\n",
    "print('train loss: ', augmented_train_results['loss'])\n",
    "print('train recall: ', augmented_train_results['recall'])\n",
    "print()\n",
    "print('test loss:   ', augmented_test_results['loss'])\n",
    "print('test recall: ', augmented_test_results['recall'])"
   ]
  },
  {
   "cell_type": "markdown",
   "metadata": {},
   "source": [
    "And now we visualize training process to see how does loss and recall correlate:"
   ]
  },
  {
   "cell_type": "code",
   "execution_count": null,
   "metadata": {},
   "outputs": [],
   "source": [
    "augmented_train_log = augmented_history.history\n",
    "augmented_num_epochs = np.arange(1, len(augmented_train_log['loss'])+1)\n",
    "\n",
    "save_data(augmented_train_log, 'train_log', '../save_files/train_log/augmented_train_log.pkl')\n",
    "save_data(augmented_num_epochs, 'train_log', '../save_files/train_log/augmented_num_epochs.pkl')\n",
    "\n",
    "loss_recall_plot(augmented_train_log, 'Loss and Recall for augmented model during training')"
   ]
  },
  {
   "cell_type": "markdown",
   "metadata": {},
   "source": [
    "We see that by using **augmentation** we were able to get rid of **overfitting** completely. Although we see that *recall* is much smaller than of the previous model.  \n",
    "\n",
    "Possible solution - additional training."
   ]
  },
  {
   "cell_type": "markdown",
   "metadata": {},
   "source": [
    "### Additional training with augmented images"
   ]
  },
  {
   "cell_type": "markdown",
   "metadata": {},
   "source": [
    "Before additional training, let's save an old model once again (in case it goes wrong):"
   ]
  },
  {
   "cell_type": "code",
   "execution_count": 56,
   "metadata": {},
   "outputs": [],
   "source": [
    "augmented_model.save('..//save_files//models/augmented_backup.h5')"
   ]
  },
  {
   "cell_type": "markdown",
   "metadata": {},
   "source": [
    "And continue training:"
   ]
  },
  {
   "cell_type": "code",
   "execution_count": null,
   "metadata": {},
   "outputs": [],
   "source": [
    "additional_training_aug_history = augmented_model.fit(train_generator_aug, steps_per_epoch=500, epochs=30,\n",
    "                                                  validation_data=validation_generator, validation_steps=175,\n",
    "                                                  callbacks=[stop_early], verbose=1)"
   ]
  },
  {
   "cell_type": "code",
   "execution_count": null,
   "metadata": {},
   "outputs": [],
   "source": [
    "additional_augmented_train_log = additional_training_aug_history.history\n",
    "additional_augmented_num_epochs = np.arange(1, len(baseline_train_log['loss'])+1)\n",
    "\n",
    "save_data(additional_augmented_train_log, 'train_log', '../save_files/train_log/additional_augmented_train_log.pkl')\n",
    "save_data(additional_augmented_num_epochs, 'epochs', '../save_files/train_log/additional_augmented_num_epochs.pkl')\n",
    "\n",
    "loss_recall_plot(additional_augmented_train_log, 'Loss and Recall for augmented model with additional training during training')"
   ]
  },
  {
   "cell_type": "markdown",
   "metadata": {},
   "source": [
    "Additional training didn't help.  \n",
    "  \n",
    "Let's now try another approach:"
   ]
  },
  {
   "cell_type": "markdown",
   "metadata": {},
   "source": [
    "### Less augmentation"
   ]
  },
  {
   "cell_type": "markdown",
   "metadata": {},
   "source": [
    "Let's now see what happens if we add a little bit of augmentation.  \n",
    "  \n",
    "In addition to that, we will also add one *Dropout* layer:"
   ]
  },
  {
   "cell_type": "code",
   "execution_count": null,
   "metadata": {},
   "outputs": [],
   "source": [
    "train_datagen_aug_small = ImageDataGenerator(\n",
    "    rescale=1./255,\n",
    "    rotation_range=5,\n",
    "    width_shift_range=0.05,\n",
    "    height_shift_range=0.05,\n",
    "    shear_range=0.05,\n",
    "    zoom_range=0.05,\n",
    "    horizontal_flip=False\n",
    ")\n",
    "\n",
    "train_generator_aug_small = train_datagen_aug_small.flow_from_dataframe(df_train, '..\\\\data\\\\raw\\\\merged_data\\\\',\n",
    "                                                                  x_col='image_path', y_col='label',\n",
    "                                                                  target_size=(512, 512), batch_size=8,\n",
    "                                                                  class_mode='categorical', validate_filenames=False)"
   ]
  },
  {
   "cell_type": "code",
   "execution_count": 13,
   "metadata": {},
   "outputs": [],
   "source": [
    "tf.keras.backend.clear_session()\n",
    "\n",
    "dropout_augmented_model = models.Sequential([\n",
    "\n",
    "        layers.Conv2D(64, (3, 3), activation='relu', input_shape=(512, 512, 3)),\n",
    "        layers.MaxPooling2D(2, 2),\n",
    "        layers.Conv2D(128, (3, 3), activation='relu'),\n",
    "        layers.MaxPooling2D(2, 2),\n",
    "        layers.Conv2D(128, (3, 3), activation='relu'),\n",
    "        layers.MaxPooling2D(2, 2),\n",
    "        layers.Flatten(),\n",
    "        layers.Dropout(0.5),\n",
    "        layers.Dense(256, activation='relu'),\n",
    "        layers.Dense(4, activation='softmax')\n",
    "])\n",
    "\n",
    "dropout_augmented_model.compile(loss=losses.CategoricalCrossentropy(), optimizer=optimizers.Adam(learning_rate=0.001), metrics=[metrics.Recall()])"
   ]
  },
  {
   "cell_type": "code",
   "execution_count": null,
   "metadata": {},
   "outputs": [],
   "source": [
    "dropout_augmented_model.summary()"
   ]
  },
  {
   "cell_type": "code",
   "execution_count": null,
   "metadata": {},
   "outputs": [],
   "source": [
    "dropout_augmented_history_train = dropout_augmented_model.fit(train_generator_aug_small, steps_per_epoch=500, epochs=60,\n",
    "                                                      validation_data=validation_generator, validation_steps=175,\n",
    "                                                      callbacks=[stop_early], verbose=1)"
   ]
  }
 ],
 "metadata": {
  "kernelspec": {
   "display_name": "tensorflow-tuner",
   "language": "python",
   "name": "python3"
  },
  "language_info": {
   "codemirror_mode": {
    "name": "ipython",
    "version": 3
   },
   "file_extension": ".py",
   "mimetype": "text/x-python",
   "name": "python",
   "nbconvert_exporter": "python",
   "pygments_lexer": "ipython3",
   "version": "3.9.19"
  }
 },
 "nbformat": 4,
 "nbformat_minor": 2
}
