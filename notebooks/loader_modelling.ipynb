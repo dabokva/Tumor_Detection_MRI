{
 "cells": [
  {
   "cell_type": "code",
   "execution_count": null,
   "metadata": {},
   "outputs": [],
   "source": [
    "import os\n",
    "import pickle\n",
    "import pandas as pd\n",
    "from keras.models import load_model\n",
    "\n",
    "%run ../scripts/save_utils.py\n",
    "\n",
    "# ------------------------- other data\n",
    "\n",
    "stop_early = load_data('../save_files/callbacks/stop_early.pkl')\n",
    "\n",
    "baseline_train_results = load_data('../save_files/evaluation/baseline_train_results.pkl')\n",
    "baseline_test_results = load_data('../save_files/evaluation/baseline_test_results.pkl')\n",
    "baseline_train_log = load_data('../save_files/train_log/baseline_train_log.pkl')\n",
    "baseline_num_epochs = load_data('../save_files/train_log/baseline_num_epochs.pkl')\n",
    "\n",
    "augmented_train_results = load_data('../save_files/evaluation/augmented_train_results.pkl')\n",
    "augmented_test_results = load_data('../save_files/evaluation/augmented_test_results.pkl')\n",
    "augmented_train_log = load_data('../save_files/train_log/augmented_train_log.pkl')\n",
    "augmented_num_epochs = load_data('../save_files/train_log/augmented_num_epochs.pkl')\n",
    "additional_augmented_train_log = load_data('../save_files/train_log/additional_augmented_train_log.pkl')\n",
    "additional_augmented_num_epochs = load_data('../save_files/train_log/additional_augmented_num_epochs.pkl')\n",
    "\n",
    "x_train = load_data('../save_files/variables/x_train.pkl')\n",
    "y_train = load_data('../save_files/variables/y_train.pkl')\n",
    "x_val = load_data('../save_files/variables/x_val.pkl')\n",
    "y_val = load_data('../save_files/variables/y_val.pkl')\n",
    "x_test = load_data('../save_files/variables/x_test.pkl')\n",
    "y_test = load_data('../save_files/variables/y_test.pkl')\n",
    "\n",
    "df_train = pd.DataFrame({'image_path':x_train, 'label':y_train})\n",
    "df_val = pd.DataFrame({'image_path':x_val, 'label':y_val})\n",
    "df_test = pd.DataFrame({'image_path':x_test, 'label':y_test})\n"
   ]
  }
 ],
 "metadata": {
  "kernelspec": {
   "display_name": "tensorflow-tuner",
   "language": "python",
   "name": "python3"
  },
  "language_info": {
   "name": "python",
   "version": "3.9.19"
  }
 },
 "nbformat": 4,
 "nbformat_minor": 2
}
