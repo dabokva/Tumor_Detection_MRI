{
 "cells": [
  {
   "cell_type": "markdown",
   "metadata": {},
   "source": [
    "# Preprocessing"
   ]
  },
  {
   "cell_type": "markdown",
   "metadata": {},
   "source": [
    "## Import"
   ]
  },
  {
   "cell_type": "code",
   "execution_count": 48,
   "metadata": {},
   "outputs": [],
   "source": [
    "import os\n",
    "import pandas as pd\n",
    "\n",
    "import cv2 as cv\n",
    "from sklearn.model_selection import train_test_split\n",
    "\n",
    "from keras_preprocessing.image import ImageDataGenerator\n",
    "\n",
    "%run ../scripts/save_utils.py"
   ]
  },
  {
   "cell_type": "markdown",
   "metadata": {},
   "source": [
    "## Data split"
   ]
  },
  {
   "cell_type": "markdown",
   "metadata": {},
   "source": [
    "First of all, we need to properly split the data.  \n",
    "  \n",
    "I have combined train and test data into one folder resp. to proper class. Now we need to combine images and their labels.  \n",
    "  \n",
    "I decided to make a dataframe containing path to the image and its label as columns:"
   ]
  },
  {
   "cell_type": "code",
   "execution_count": 49,
   "metadata": {},
   "outputs": [],
   "source": [
    "images_path = '../data/raw/merged_data'"
   ]
  },
  {
   "cell_type": "code",
   "execution_count": 50,
   "metadata": {},
   "outputs": [],
   "source": [
    "def get_folder_names(directory_path):\n",
    "    entries = os.listdir(directory_path)\n",
    "    folders = [entry for entry in entries if os.path.isdir(os.path.join(directory_path, entry))]\n",
    "    return folders\n",
    "\n",
    "def images_to_dataframe(directory_path):\n",
    "    folders = get_folder_names(directory_path)\n",
    "    file_paths = []\n",
    "    labels = []\n",
    "\n",
    "    for folder in folders:\n",
    "        folder_path = os.path.join(directory_path, folder)\n",
    "        files = os.listdir(folder_path)\n",
    "        for file in files:\n",
    "            file_path = os.path.relpath(os.path.join(folder_path, file), directory_path)\n",
    "            file_path = file_path.replace('\\\\', '/')  # Replace backslashes with forward slashes\n",
    "            file_paths.append(file_path)\n",
    "            labels.append(folder)\n",
    "\n",
    "    df = pd.DataFrame({\n",
    "        'image_path': file_paths,\n",
    "        'label': labels\n",
    "    })\n",
    "\n",
    "    df = df.sample(frac=1).reset_index(drop=True)\n",
    "\n",
    "    return df"
   ]
  },
  {
   "cell_type": "code",
   "execution_count": 51,
   "metadata": {},
   "outputs": [],
   "source": [
    "df = images_to_dataframe(images_path)"
   ]
  },
  {
   "cell_type": "code",
   "execution_count": 52,
   "metadata": {},
   "outputs": [
    {
     "name": "stdout",
     "output_type": "stream",
     "text": [
      "                     image_path       label\n",
      "0        notumor/Tr-no_0552.jpg     notumor\n",
      "1      pituitary/Tr-pi_0121.jpg   pituitary\n",
      "2         glioma/Tr-gl_0728.jpg      glioma\n",
      "3         glioma/Tr-gl_0584.jpg      glioma\n",
      "4      pituitary/Tr-pi_1440.jpg   pituitary\n",
      "...                         ...         ...\n",
      "7018   pituitary/Tr-pi_1141.jpg   pituitary\n",
      "7019     notumor/Te-no_0346.jpg     notumor\n",
      "7020     notumor/Tr-no_0752.jpg     notumor\n",
      "7021  meningioma/Tr-me_0287.jpg  meningioma\n",
      "7022   pituitary/Tr-pi_0524.jpg   pituitary\n",
      "\n",
      "[7023 rows x 2 columns]\n"
     ]
    }
   ],
   "source": [
    "print(df)"
   ]
  },
  {
   "cell_type": "markdown",
   "metadata": {},
   "source": [
    "Now we have a dataset containing all paths to images and their resp. labels.  \n",
    "Let's proceed to splitting:"
   ]
  },
  {
   "cell_type": "code",
   "execution_count": 53,
   "metadata": {},
   "outputs": [],
   "source": [
    "x_tmp, x_test, y_tmp, y_test = train_test_split(df['image_path'], df['label'], test_size=0.2,\n",
    "                                                shuffle=True, random_state=73, stratify=df['label'])\n",
    "\n",
    "x_train, x_val, y_train, y_val = train_test_split(x_tmp, y_tmp, test_size=0.25,\n",
    "                                                  shuffle=True, random_state=73, stratify=y_tmp)"
   ]
  },
  {
   "cell_type": "markdown",
   "metadata": {},
   "source": [
    "Since indices got all mixed up after splitting, we will reset them:"
   ]
  },
  {
   "cell_type": "code",
   "execution_count": 54,
   "metadata": {},
   "outputs": [],
   "source": [
    "data = [x_train, y_train, x_val, y_val, x_test, y_test]\n",
    "for entry in data:\n",
    "    entry.reset_index(drop=True, inplace=True)"
   ]
  },
  {
   "cell_type": "markdown",
   "metadata": {},
   "source": [
    "Now we have 3 separate sets : **train**, with **80%** of initial data, and **validation** and **test** sets **each** containing **20%** of the initial data.  \n",
    "  \n",
    "Let's now check how many samples each set has:"
   ]
  },
  {
   "cell_type": "code",
   "execution_count": 55,
   "metadata": {},
   "outputs": [
    {
     "name": "stdout",
     "output_type": "stream",
     "text": [
      "Number of samples in:\n",
      "  train set:       4213\n",
      "  validation set:  1405\n",
      "  test set:        1405\n"
     ]
    }
   ],
   "source": [
    "print('Number of samples in:')\n",
    "print('  train set:      ', x_train.shape[0])\n",
    "print('  validation set: ', x_val.shape[0])\n",
    "print('  test set:       ', x_test.shape[0])"
   ]
  },
  {
   "cell_type": "markdown",
   "metadata": {},
   "source": [
    "And now we save it to use later when it comes to building actual models:"
   ]
  },
  {
   "cell_type": "code",
   "execution_count": 56,
   "metadata": {},
   "outputs": [
    {
     "name": "stdout",
     "output_type": "stream",
     "text": [
      "All variables have been successfully saved to ../save_files/processed_data.pkl.\n"
     ]
    }
   ],
   "source": [
    "save_data('../save_files/processed_data.pkl', x_train, y_train, x_val, y_val, x_test, y_test)"
   ]
  },
  {
   "cell_type": "markdown",
   "metadata": {},
   "source": [
    "## ImageDataGenerator"
   ]
  },
  {
   "cell_type": "markdown",
   "metadata": {},
   "source": [
    "Let's now assemble data into dataframes to use in ImageDataGenerator:"
   ]
  },
  {
   "cell_type": "code",
   "execution_count": 57,
   "metadata": {},
   "outputs": [],
   "source": [
    "df_train = pd.DataFrame({'image_path':x_train, 'label':y_train})\n",
    "df_val = pd.DataFrame({'image_path':x_val, 'label':y_val})\n",
    "df_test = pd.DataFrame({'image_path':x_test, 'label':y_test})"
   ]
  },
  {
   "cell_type": "code",
   "execution_count": 58,
   "metadata": {},
   "outputs": [],
   "source": [
    "train_datagen = ImageDataGenerator(rescale=1./255)\n",
    "val_datagen = ImageDataGenerator(rescale=1./255)\n",
    "test_datagen = ImageDataGenerator(rescale=1./255)"
   ]
  },
  {
   "cell_type": "code",
   "execution_count": 59,
   "metadata": {},
   "outputs": [
    {
     "name": "stdout",
     "output_type": "stream",
     "text": [
      "Found 4213 non-validated image filenames belonging to 4 classes.\n",
      "Found 1405 non-validated image filenames belonging to 4 classes.\n",
      "Found 1405 non-validated image filenames belonging to 4 classes.\n"
     ]
    }
   ],
   "source": [
    "train_generator = train_datagen.flow_from_dataframe(df_train, '..data/raw/merged_data',\n",
    "                                                    x_col='image_path', y_col='label',\n",
    "                                                    target_size=(512, 512), batch_size=20,\n",
    "                                                    class_mode='categorical', validate_filenames=False)\n",
    "\n",
    "validation_generator = val_datagen.flow_from_dataframe(df_val, '..data/raw/merged_data',\n",
    "                                                       x_col='image_path', y_col='label',\n",
    "                                                       target_size=(512, 512), batch_size=20,\n",
    "                                                       class_mode='categorical', validate_filenames=False)\n",
    "\n",
    "test_generator = test_datagen.flow_from_dataframe(df_test, '..data/raw/merged_data',\n",
    "                                                  x_col='image_path', y_col='label',\n",
    "                                                  target_size=(512, 512), batch_size=20,\n",
    "                                                  class_mode='categorical', validate_filenames=False)\n",
    "\n",
    "# be cautious with validate_filenames=False, might lead to errors in the future;"
   ]
  },
  {
   "cell_type": "markdown",
   "metadata": {},
   "source": [
    "Let's now save generators to use later:"
   ]
  },
  {
   "cell_type": "code",
   "execution_count": 60,
   "metadata": {},
   "outputs": [
    {
     "name": "stdout",
     "output_type": "stream",
     "text": [
      "An error occurred while saving data: cannot pickle '_thread.lock' object\n"
     ]
    }
   ],
   "source": [
    "save_data('../save_files/generators.pkl', train_generator, validation_generator, test_generator)"
   ]
  }
 ],
 "metadata": {
  "kernelspec": {
   "display_name": "tensorflow-tuner",
   "language": "python",
   "name": "python3"
  },
  "language_info": {
   "codemirror_mode": {
    "name": "ipython",
    "version": 3
   },
   "file_extension": ".py",
   "mimetype": "text/x-python",
   "name": "python",
   "nbconvert_exporter": "python",
   "pygments_lexer": "ipython3",
   "version": "3.9.19"
  }
 },
 "nbformat": 4,
 "nbformat_minor": 2
}
