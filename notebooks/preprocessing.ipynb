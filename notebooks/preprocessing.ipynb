{
 "cells": [
  {
   "cell_type": "markdown",
   "metadata": {},
   "source": [
    "# Preprocessing"
   ]
  },
  {
   "cell_type": "markdown",
   "metadata": {},
   "source": [
    "## Import"
   ]
  },
  {
   "cell_type": "code",
   "execution_count": 102,
   "metadata": {},
   "outputs": [],
   "source": [
    "import os\n",
    "import pandas as pd\n",
    "\n",
    "import cv2 as cv\n",
    "from sklearn.model_selection import train_test_split\n",
    "\n",
    "from keras_preprocessing.image import ImageDataGenerator\n",
    "\n",
    "%run ../scripts/save_utils.py"
   ]
  },
  {
   "cell_type": "markdown",
   "metadata": {},
   "source": [
    "## Data split"
   ]
  },
  {
   "cell_type": "markdown",
   "metadata": {},
   "source": [
    "First of all, we need to properly split the data.  \n",
    "  \n",
    "I have combined train and test data into one folder resp. to proper class. Now we need to combine images and their labels.  \n",
    "  \n",
    "I decided to make a dataframe containing path to the image and its label as columns:"
   ]
  },
  {
   "cell_type": "code",
   "execution_count": 103,
   "metadata": {},
   "outputs": [],
   "source": [
    "images_path = '../data/raw/merged_data'"
   ]
  },
  {
   "cell_type": "code",
   "execution_count": 104,
   "metadata": {},
   "outputs": [],
   "source": [
    "def get_folder_names(directory_path):\n",
    "    entries = os.listdir(directory_path)\n",
    "    folders = [entry for entry in entries if os.path.isdir(os.path.join(directory_path, entry))]\n",
    "    return folders\n",
    "\n",
    "def images_to_dataframe(directory_path):\n",
    "    folders = get_folder_names(directory_path)\n",
    "    file_paths = []\n",
    "    labels = []\n",
    "\n",
    "    for folder in folders:\n",
    "        folder_path = os.path.join(directory_path, folder)\n",
    "        files = os.listdir(folder_path)\n",
    "        for file in files:\n",
    "            file_path = os.path.relpath(os.path.join(folder_path, file), directory_path)\n",
    "            file_path = file_path.replace('\\\\', '/')  # Replace backslashes with forward slashes\n",
    "            file_paths.append(file_path)\n",
    "            labels.append(folder)\n",
    "\n",
    "    df = pd.DataFrame({\n",
    "        'image_path': file_paths,\n",
    "        'label': labels\n",
    "    })\n",
    "\n",
    "    df = df.sample(frac=1).reset_index(drop=True)\n",
    "\n",
    "    return df"
   ]
  },
  {
   "cell_type": "code",
   "execution_count": 105,
   "metadata": {},
   "outputs": [],
   "source": [
    "df = images_to_dataframe(images_path)"
   ]
  },
  {
   "cell_type": "code",
   "execution_count": 106,
   "metadata": {},
   "outputs": [
    {
     "name": "stdout",
     "output_type": "stream",
     "text": [
      "                     image_path       label\n",
      "0        notumor/Tr-no_0793.jpg     notumor\n",
      "1     meningioma/Te-me_0015.jpg  meningioma\n",
      "2      pituitary/Tr-pi_0242.jpg   pituitary\n",
      "3     meningioma/Tr-me_0892.jpg  meningioma\n",
      "4     meningioma/Tr-me_0266.jpg  meningioma\n",
      "...                         ...         ...\n",
      "7018     notumor/Tr-no_0952.jpg     notumor\n",
      "7019  meningioma/Tr-me_1183.jpg  meningioma\n",
      "7020      glioma/Tr-gl_1218.jpg      glioma\n",
      "7021  meningioma/Tr-me_0843.jpg  meningioma\n",
      "7022     notumor/Tr-no_1051.jpg     notumor\n",
      "\n",
      "[7023 rows x 2 columns]\n"
     ]
    }
   ],
   "source": [
    "print(df)"
   ]
  },
  {
   "cell_type": "markdown",
   "metadata": {},
   "source": [
    "Now we have a dataset containing all paths to images and their resp. labels.  \n",
    "Let's proceed to splitting:"
   ]
  },
  {
   "cell_type": "code",
   "execution_count": 107,
   "metadata": {},
   "outputs": [],
   "source": [
    "x_tmp, x_test, y_tmp, y_test = train_test_split(df['image_path'], df['label'], test_size=0.2, shuffle=True, random_state=73, stratify=df['label'])\n",
    "x_train, x_val, y_train, y_val = train_test_split(x_tmp, y_tmp, test_size=0.25, shuffle=True, random_state=73, stratify=y_tmp)"
   ]
  },
  {
   "cell_type": "markdown",
   "metadata": {},
   "source": [
    "Since indices got all mixed up after splitting, we will reset them:"
   ]
  },
  {
   "cell_type": "code",
   "execution_count": 108,
   "metadata": {},
   "outputs": [],
   "source": [
    "data = [x_train, y_train, x_val, y_val, x_test, y_test]\n",
    "for entry in data:\n",
    "    entry.reset_index(drop=True, inplace=True)"
   ]
  },
  {
   "cell_type": "markdown",
   "metadata": {},
   "source": [
    "Now we have 3 separate sets : **train**, with **80%** of initial data, and **validation** and **test** sets **each** containing **20%** of the initial data.  \n",
    "  \n",
    "Let's now check how many samples each set has:"
   ]
  },
  {
   "cell_type": "code",
   "execution_count": 109,
   "metadata": {},
   "outputs": [
    {
     "name": "stdout",
     "output_type": "stream",
     "text": [
      "Number of samples in:\n",
      "  train set:       4213\n",
      "  validation set:  1405\n",
      "  test set:        1405\n"
     ]
    }
   ],
   "source": [
    "print('Number of samples in:')\n",
    "print('  train set:      ', x_train.shape[0])\n",
    "print('  validation set: ', x_val.shape[0])\n",
    "print('  test set:       ', x_test.shape[0])"
   ]
  },
  {
   "cell_type": "markdown",
   "metadata": {},
   "source": [
    "And now we save it to use later when it comes to building actual models:"
   ]
  },
  {
   "cell_type": "code",
   "execution_count": 110,
   "metadata": {},
   "outputs": [
    {
     "name": "stdout",
     "output_type": "stream",
     "text": [
      "All variables have been successfully saved to ../save_files/processed_data.pkl.\n"
     ]
    }
   ],
   "source": [
    "save_data('../save_files/processed_data.pkl', x_train, y_train, x_val, y_val, x_test, y_test)"
   ]
  }
 ],
 "metadata": {
  "kernelspec": {
   "display_name": "tensorflow-tuner",
   "language": "python",
   "name": "python3"
  },
  "language_info": {
   "codemirror_mode": {
    "name": "ipython",
    "version": 3
   },
   "file_extension": ".py",
   "mimetype": "text/x-python",
   "name": "python",
   "nbconvert_exporter": "python",
   "pygments_lexer": "ipython3",
   "version": "3.9.19"
  }
 },
 "nbformat": 4,
 "nbformat_minor": 2
}
