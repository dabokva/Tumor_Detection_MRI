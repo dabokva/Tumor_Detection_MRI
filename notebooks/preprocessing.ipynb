{
 "cells": [
  {
   "cell_type": "markdown",
   "metadata": {},
   "source": [
    "# Preprocessing"
   ]
  },
  {
   "cell_type": "markdown",
   "metadata": {},
   "source": [
    "## Import"
   ]
  },
  {
   "cell_type": "code",
   "execution_count": 1,
   "metadata": {},
   "outputs": [],
   "source": [
    "import os\n",
    "import pandas as pd\n",
    "\n",
    "import cv2 as cv\n",
    "from sklearn.model_selection import train_test_split\n",
    "\n",
    "%run ../scripts/save_utils.py"
   ]
  },
  {
   "cell_type": "markdown",
   "metadata": {},
   "source": [
    "## Data split"
   ]
  },
  {
   "cell_type": "markdown",
   "metadata": {},
   "source": [
    "First of all, we need to properly split the data.  \n",
    "  \n",
    "I have combined train and test data into one folder resp. to proper class. Now we need to combine images and their labels.  \n",
    "  \n",
    "I decided to make a dataframe containing path to the image and its label as columns:"
   ]
  },
  {
   "cell_type": "code",
   "execution_count": 2,
   "metadata": {},
   "outputs": [],
   "source": [
    "images_path = '../data/raw/merged_data'"
   ]
  },
  {
   "cell_type": "code",
   "execution_count": 3,
   "metadata": {},
   "outputs": [],
   "source": [
    "def get_folder_names(directory_path):\n",
    "    entries = os.listdir(directory_path)\n",
    "    folders = [entry for entry in entries if os.path.isdir(os.path.join(directory_path, entry))]\n",
    "    return folders\n",
    "\n",
    "def images_to_dataframe(directory_path):\n",
    "    folders = get_folder_names(directory_path)\n",
    "    file_paths = []\n",
    "    labels = []\n",
    "\n",
    "    for folder in folders:\n",
    "        folder_path = os.path.join(directory_path, folder)\n",
    "        files = os.listdir(folder_path)\n",
    "        for file in files:\n",
    "            file_path = os.path.relpath(os.path.join(folder_path, file), directory_path)\n",
    "            file_path = file_path.replace('\\\\', '/')  # Replace backslashes with forward slashes\n",
    "            file_paths.append(file_path)\n",
    "            labels.append(folder)\n",
    "\n",
    "    df = pd.DataFrame({\n",
    "        'image_path': file_paths,\n",
    "        'label': labels\n",
    "    })\n",
    "\n",
    "    df = df.sample(frac=1).reset_index(drop=True)\n",
    "\n",
    "    return df"
   ]
  },
  {
   "cell_type": "code",
   "execution_count": 4,
   "metadata": {},
   "outputs": [],
   "source": [
    "df = images_to_dataframe(images_path)"
   ]
  },
  {
   "cell_type": "code",
   "execution_count": 5,
   "metadata": {},
   "outputs": [
    {
     "name": "stdout",
     "output_type": "stream",
     "text": [
      "                     image_path       label\n",
      "0     meningioma/Tr-me_0905.jpg  meningioma\n",
      "1      pituitary/Te-pi_0208.jpg   pituitary\n",
      "2         glioma/Tr-gl_1317.jpg      glioma\n",
      "3        notumor/Te-no_0095.jpg     notumor\n",
      "4         glioma/Tr-gl_0917.jpg      glioma\n",
      "...                         ...         ...\n",
      "7018  meningioma/Te-me_0045.jpg  meningioma\n",
      "7019     notumor/Te-no_0280.jpg     notumor\n",
      "7020  meningioma/Tr-me_0820.jpg  meningioma\n",
      "7021     notumor/Tr-no_0719.jpg     notumor\n",
      "7022   pituitary/Tr-pi_0735.jpg   pituitary\n",
      "\n",
      "[7023 rows x 2 columns]\n"
     ]
    }
   ],
   "source": [
    "print(df)"
   ]
  },
  {
   "cell_type": "markdown",
   "metadata": {},
   "source": [
    "Now we have a dataset containing all paths to images and their resp. labels.  \n",
    "Let's proceed to splitting:"
   ]
  },
  {
   "cell_type": "code",
   "execution_count": 6,
   "metadata": {},
   "outputs": [],
   "source": [
    "x_tmp, x_test, y_tmp, y_test = train_test_split(df['image_path'], df['label'], test_size=0.2,\n",
    "                                                shuffle=True, random_state=73, stratify=df['label'])\n",
    "\n",
    "x_train, x_val, y_train, y_val = train_test_split(x_tmp, y_tmp, test_size=0.25,\n",
    "                                                  shuffle=True, random_state=73, stratify=y_tmp)"
   ]
  },
  {
   "cell_type": "markdown",
   "metadata": {},
   "source": [
    "Since indices got all mixed up after splitting, we will reset them:"
   ]
  },
  {
   "cell_type": "code",
   "execution_count": 7,
   "metadata": {},
   "outputs": [],
   "source": [
    "data = [x_train, y_train, x_val, y_val, x_test, y_test]\n",
    "for entry in data:\n",
    "    entry.reset_index(drop=True, inplace=True)"
   ]
  },
  {
   "cell_type": "markdown",
   "metadata": {},
   "source": [
    "Now we have 3 separate sets : **train**, with **80%** of initial data, and **validation** and **test** sets **each** containing **20%** of the initial data.  \n",
    "  \n",
    "Let's now check how many samples each set has:"
   ]
  },
  {
   "cell_type": "code",
   "execution_count": 8,
   "metadata": {},
   "outputs": [
    {
     "name": "stdout",
     "output_type": "stream",
     "text": [
      "Number of samples in:\n",
      "  train set:       4213\n",
      "  validation set:  1405\n",
      "  test set:        1405\n"
     ]
    }
   ],
   "source": [
    "print('Number of samples in:')\n",
    "print('  train set:      ', x_train.shape[0])\n",
    "print('  validation set: ', x_val.shape[0])\n",
    "print('  test set:       ', x_test.shape[0])"
   ]
  },
  {
   "cell_type": "markdown",
   "metadata": {},
   "source": [
    "And now we save it to use later when it comes to building actual models:"
   ]
  },
  {
   "cell_type": "code",
   "execution_count": 9,
   "metadata": {},
   "outputs": [
    {
     "name": "stdout",
     "output_type": "stream",
     "text": [
      "object successfuly saved to: ../save_files/variables/x_train.pkl\n",
      "object successfuly saved to: ../save_files/variables/y_train.pkl\n",
      "object successfuly saved to: ../save_files/variables/x_val.pkl\n",
      "object successfuly saved to: ../save_files/variables/y_val.pkl\n",
      "object successfuly saved to: ../save_files/variables/x_test.pkl\n",
      "object successfuly saved to: ../save_files/variables/y_test.pkl\n"
     ]
    }
   ],
   "source": [
    "save_data(x_train, 'train_data', '../save_files/variables/x_train.pkl')\n",
    "save_data(y_train, 'train_data', '../save_files/variables/y_train.pkl')\n",
    "save_data(x_val, 'validation_data', '../save_files/variables/x_val.pkl')\n",
    "save_data(y_val, 'validation_data', '../save_files/variables/y_val.pkl')\n",
    "save_data(x_test, 'test_data', '../save_files/variables/x_test.pkl')\n",
    "save_data(y_test, 'test_data', '../save_files/variables/y_test.pkl')"
   ]
  }
 ],
 "metadata": {
  "kernelspec": {
   "display_name": "tensorflow-tuner",
   "language": "python",
   "name": "python3"
  },
  "language_info": {
   "codemirror_mode": {
    "name": "ipython",
    "version": 3
   },
   "file_extension": ".py",
   "mimetype": "text/x-python",
   "name": "python",
   "nbconvert_exporter": "python",
   "pygments_lexer": "ipython3",
   "version": "3.9.19"
  }
 },
 "nbformat": 4,
 "nbformat_minor": 2
}
